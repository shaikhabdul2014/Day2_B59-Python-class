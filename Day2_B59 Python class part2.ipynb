{
 "cells": [
  {
   "cell_type": "code",
   "execution_count": null,
   "id": "c30853a7",
   "metadata": {},
   "outputs": [],
   "source": [
    "Understanding the variables in Python"
   ]
  },
  {
   "cell_type": "code",
   "execution_count": 1,
   "id": "bc234781",
   "metadata": {},
   "outputs": [
    {
     "name": "stdout",
     "output_type": "stream",
     "text": [
      "5\n"
     ]
    }
   ],
   "source": [
    "x=2\n",
    "y=3\n",
    "z=x+y\n",
    "print(z)"
   ]
  },
  {
   "cell_type": "code",
   "execution_count": null,
   "id": "6ae796b9",
   "metadata": {},
   "outputs": [],
   "source": [
    "rule for declaring the variables"
   ]
  },
  {
   "cell_type": "code",
   "execution_count": 2,
   "id": "c7b19b66",
   "metadata": {},
   "outputs": [
    {
     "ename": "SyntaxError",
     "evalue": "invalid syntax (Temp/ipykernel_21492/3448317342.py, line 1)",
     "output_type": "error",
     "traceback": [
      "\u001b[1;36m  File \u001b[1;32m\"C:\\Users\\kadersha\\AppData\\Local\\Temp/ipykernel_21492/3448317342.py\"\u001b[1;36m, line \u001b[1;32m1\u001b[0m\n\u001b[1;33m    Rule1 - no namespaces while declaring the variables\u001b[0m\n\u001b[1;37m               ^\u001b[0m\n\u001b[1;31mSyntaxError\u001b[0m\u001b[1;31m:\u001b[0m invalid syntax\n"
     ]
    }
   ],
   "source": [
    "Rule1 - no namespaces while declaring the variables\n",
    "there should not be a gap between first and name \n",
    "first name='fayaz'"
   ]
  },
  {
   "cell_type": "code",
   "execution_count": 3,
   "id": "ee4d241b",
   "metadata": {},
   "outputs": [
    {
     "ename": "NameError",
     "evalue": "name 'firstame' is not defined",
     "output_type": "error",
     "traceback": [
      "\u001b[1;31m---------------------------------------------------------------------------\u001b[0m",
      "\u001b[1;31mNameError\u001b[0m                                 Traceback (most recent call last)",
      "\u001b[1;32m~\\AppData\\Local\\Temp/ipykernel_21492/4016819215.py\u001b[0m in \u001b[0;36m<module>\u001b[1;34m\u001b[0m\n\u001b[0;32m      1\u001b[0m \u001b[0mfirstname\u001b[0m\u001b[1;33m=\u001b[0m\u001b[1;34m'fayaz'\u001b[0m\u001b[1;33m\u001b[0m\u001b[1;33m\u001b[0m\u001b[0m\n\u001b[1;32m----> 2\u001b[1;33m \u001b[0mprint\u001b[0m\u001b[1;33m(\u001b[0m\u001b[0mfirstame\u001b[0m\u001b[1;33m)\u001b[0m\u001b[1;33m\u001b[0m\u001b[1;33m\u001b[0m\u001b[0m\n\u001b[0m",
      "\u001b[1;31mNameError\u001b[0m: name 'firstame' is not defined"
     ]
    }
   ],
   "source": [
    "firstname='fayaz'\n",
    "print(firstame)"
   ]
  },
  {
   "cell_type": "code",
   "execution_count": 4,
   "id": "8558ec0d",
   "metadata": {},
   "outputs": [
    {
     "name": "stdout",
     "output_type": "stream",
     "text": [
      "fayaz\n"
     ]
    }
   ],
   "source": [
    "print(firstname)"
   ]
  },
  {
   "cell_type": "code",
   "execution_count": null,
   "id": "e1751c5c",
   "metadata": {},
   "outputs": [],
   "source": [
    "Rule2- Variable name should not start with a number."
   ]
  },
  {
   "cell_type": "code",
   "execution_count": 5,
   "id": "d9d62b3c",
   "metadata": {},
   "outputs": [
    {
     "ename": "SyntaxError",
     "evalue": "invalid syntax (Temp/ipykernel_21492/2861785815.py, line 1)",
     "output_type": "error",
     "traceback": [
      "\u001b[1;36m  File \u001b[1;32m\"C:\\Users\\kadersha\\AppData\\Local\\Temp/ipykernel_21492/2861785815.py\"\u001b[1;36m, line \u001b[1;32m1\u001b[0m\n\u001b[1;33m    1name='kumar'\u001b[0m\n\u001b[1;37m     ^\u001b[0m\n\u001b[1;31mSyntaxError\u001b[0m\u001b[1;31m:\u001b[0m invalid syntax\n"
     ]
    }
   ],
   "source": [
    "1name='kumar'\n",
    "print(1name)"
   ]
  },
  {
   "cell_type": "code",
   "execution_count": 6,
   "id": "67bbff98",
   "metadata": {},
   "outputs": [
    {
     "name": "stdout",
     "output_type": "stream",
     "text": [
      "kumar\n"
     ]
    }
   ],
   "source": [
    "name='kumar'\n",
    "print(name)"
   ]
  },
  {
   "cell_type": "code",
   "execution_count": null,
   "id": "de5b2264",
   "metadata": {},
   "outputs": [],
   "source": [
    "Interview Question: Can we give number at the end of the variable?"
   ]
  },
  {
   "cell_type": "code",
   "execution_count": 7,
   "id": "8a383e38",
   "metadata": {},
   "outputs": [
    {
     "name": "stdout",
     "output_type": "stream",
     "text": [
      "kumar\n"
     ]
    }
   ],
   "source": [
    "name1='kumar'\n",
    "print(name1)"
   ]
  },
  {
   "cell_type": "code",
   "execution_count": null,
   "id": "1ae118df",
   "metadata": {},
   "outputs": [],
   "source": [
    "Rule3- Variable name should not contain any special character"
   ]
  },
  {
   "cell_type": "code",
   "execution_count": 8,
   "id": "e86d640c",
   "metadata": {},
   "outputs": [
    {
     "ename": "SyntaxError",
     "evalue": "unexpected EOF while parsing (Temp/ipykernel_21492/3741453697.py, line 2)",
     "output_type": "error",
     "traceback": [
      "\u001b[1;36m  File \u001b[1;32m\"C:\\Users\\kadersha\\AppData\\Local\\Temp/ipykernel_21492/3741453697.py\"\u001b[1;36m, line \u001b[1;32m2\u001b[0m\n\u001b[1;33m    print(#name)\u001b[0m\n\u001b[1;37m                ^\u001b[0m\n\u001b[1;31mSyntaxError\u001b[0m\u001b[1;31m:\u001b[0m unexpected EOF while parsing\n"
     ]
    }
   ],
   "source": [
    "#name=\"biju\"\n",
    "print(#name)"
   ]
  },
  {
   "cell_type": "code",
   "execution_count": 9,
   "id": "c518e738",
   "metadata": {
    "scrolled": true
   },
   "outputs": [
    {
     "ename": "SyntaxError",
     "evalue": "invalid syntax (Temp/ipykernel_21492/3815567261.py, line 2)",
     "output_type": "error",
     "traceback": [
      "\u001b[1;36m  File \u001b[1;32m\"C:\\Users\\kadersha\\AppData\\Local\\Temp/ipykernel_21492/3815567261.py\"\u001b[1;36m, line \u001b[1;32m2\u001b[0m\n\u001b[1;33m    print(name%)\u001b[0m\n\u001b[1;37m               ^\u001b[0m\n\u001b[1;31mSyntaxError\u001b[0m\u001b[1;31m:\u001b[0m invalid syntax\n"
     ]
    }
   ],
   "source": [
    "name%='jimmy'\n",
    "print(name%)"
   ]
  },
  {
   "cell_type": "code",
   "execution_count": null,
   "id": "b7962b0f",
   "metadata": {},
   "outputs": [],
   "source": [
    "For executing the cells we have to press shift+enter button"
   ]
  },
  {
   "cell_type": "code",
   "execution_count": null,
   "id": "98a2b85b",
   "metadata": {},
   "outputs": [],
   "source": [
    "Introduction of dattypes in python\n",
    "1. String -- str\n",
    "2. Number  -- integers (int) and floats ( decimal)\n",
    "3. Lists -- list\n",
    "4. Tuples -- tuple\n",
    "5. Dictionaries -- dict"
   ]
  },
  {
   "cell_type": "code",
   "execution_count": null,
   "id": "cc407449",
   "metadata": {},
   "outputs": [],
   "source": [
    "Classification of datatypes in python\n",
    "1. Mutable ---> which we can edit and aleter==> Flexible in nature\n",
    "2. Immutable --> which we cannot able to edit or alter ==> fixed in nature"
   ]
  },
  {
   "cell_type": "code",
   "execution_count": null,
   "id": "37bbcf27",
   "metadata": {},
   "outputs": [],
   "source": [
    "Introduction to string dataype\n",
    "Definition- String is a series of characters declared in Quotes.\n",
    "Classification- It is classified as immutable datatype.\n",
    "How to declare the strong datatype\n",
    "There are 3 approaches of declaring the string datatype\n",
    "1. Single Quote\n",
    "2. Double Quote\n",
    "3. Triple Quote"
   ]
  },
  {
   "cell_type": "code",
   "execution_count": 10,
   "id": "25f293d8",
   "metadata": {},
   "outputs": [
    {
     "name": "stdout",
     "output_type": "stream",
     "text": [
      "john\n"
     ]
    }
   ],
   "source": [
    "name1='john'\n",
    "name2=\"kumar\"\n",
    "name3=\"\"\"matt\"\"\"\n",
    "\n",
    "print(name1)"
   ]
  },
  {
   "cell_type": "code",
   "execution_count": 11,
   "id": "dfd2092a",
   "metadata": {},
   "outputs": [
    {
     "name": "stdout",
     "output_type": "stream",
     "text": [
      "kumar\n"
     ]
    }
   ],
   "source": [
    "print(name2)"
   ]
  },
  {
   "cell_type": "code",
   "execution_count": 12,
   "id": "f193c0ef",
   "metadata": {},
   "outputs": [
    {
     "name": "stdout",
     "output_type": "stream",
     "text": [
      "matt\n"
     ]
    }
   ],
   "source": [
    "print(name3)"
   ]
  },
  {
   "cell_type": "code",
   "execution_count": null,
   "id": "9a344b8a",
   "metadata": {},
   "outputs": [],
   "source": []
  },
  {
   "cell_type": "code",
   "execution_count": null,
   "id": "5bc82303",
   "metadata": {},
   "outputs": [],
   "source": []
  },
  {
   "cell_type": "code",
   "execution_count": null,
   "id": "17f350ff",
   "metadata": {},
   "outputs": [],
   "source": []
  },
  {
   "cell_type": "code",
   "execution_count": null,
   "id": "b04f68f7",
   "metadata": {},
   "outputs": [],
   "source": []
  },
  {
   "cell_type": "code",
   "execution_count": null,
   "id": "c3f0d9c3",
   "metadata": {},
   "outputs": [],
   "source": []
  }
 ],
 "metadata": {
  "kernelspec": {
   "display_name": "Python 3 (ipykernel)",
   "language": "python",
   "name": "python3"
  },
  "language_info": {
   "codemirror_mode": {
    "name": "ipython",
    "version": 3
   },
   "file_extension": ".py",
   "mimetype": "text/x-python",
   "name": "python",
   "nbconvert_exporter": "python",
   "pygments_lexer": "ipython3",
   "version": "3.9.7"
  }
 },
 "nbformat": 4,
 "nbformat_minor": 5
}
